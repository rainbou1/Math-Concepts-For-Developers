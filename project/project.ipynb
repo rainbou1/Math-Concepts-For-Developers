{
 "cells": [
  {
   "cell_type": "code",
   "execution_count": 5,
   "id": "d2fb019b-f01c-48be-af41-880d64fa9bfb",
   "metadata": {},
   "outputs": [],
   "source": [
    "%matplotlib inline"
   ]
  },
  {
   "cell_type": "code",
   "execution_count": 6,
   "id": "334eadda-30b6-4a83-838e-d728719ef1c9",
   "metadata": {},
   "outputs": [],
   "source": [
    "import numpy as np\n",
    "import matplotlib.pyplot as plt\n",
    "import scipy.stats\n",
    "import scipy.io.wavfile\n",
    "from scipy.fftpack import fft, fftfreq"
   ]
  },
  {
   "cell_type": "markdown",
   "id": "3c3be33b-87ae-4d56-a1ab-0cbd2d74daad",
   "metadata": {},
   "source": [
    "# Error-Correcting Codes"
   ]
  },
  {
   "cell_type": "markdown",
   "id": "723f31f0-2b9b-4f0b-84fa-bc0c9fd1b6b8",
   "metadata": {},
   "source": [
    "## What are Error-Correcting codes and why are they so important: "
   ]
  },
  {
   "cell_type": "markdown",
   "id": "32285c82-0813-4593-bcdf-3c01b83d138c",
   "metadata": {},
   "source": [
    "In the era of communications, it is always important the data to be transferred in a secure and looseless way. But we still cannot make the technologies so perfect, and sometime times part of the data can be lost during the transfer. \n",
    "So what can we do in order to check whether there are errors in data transmission over noisy or unreliable communications channels?\n",
    "For example, we can generate a hashcode of the transferred data (using MD5, SHA256 or some other algorithm), and provide it together with the transferred data. If there is difference between the generated hashcode, and the hashcode, that we calculate at the final point of the transfer, we shall know, that there is difference between the original data, and the data that we received (some transfer loss, some intended change in the data being transferred).\n",
    "If the content of the data is not so important for us, we can even just make a checksum - for example summing the numbers of the bytes to be transferred, and this sum will be transferred together with the data.  After the data is transferred, the checksum is calculated again, and if it is the same as the provided one, then we consider, that the transferred data is intact.\n",
    "Ok, until now we found two easy ways to find that there was an error/problem during the data transmission. But what is the biggest problem with them?\n",
    "The biggest problem is, that even if we find out, that a problem occurred during the data transfer, we can only detect it, but we CANNOT FIX it. And here come the error-correcting codes. "
   ]
  },
  {
   "cell_type": "code",
   "execution_count": null,
   "id": "a2f8c885-2d42-43ad-b915-97e39d19327a",
   "metadata": {},
   "outputs": [],
   "source": []
  }
 ],
 "metadata": {
  "kernelspec": {
   "display_name": "Python 3 (ipykernel)",
   "language": "python",
   "name": "python3"
  },
  "language_info": {
   "codemirror_mode": {
    "name": "ipython",
    "version": 3
   },
   "file_extension": ".py",
   "mimetype": "text/x-python",
   "name": "python",
   "nbconvert_exporter": "python",
   "pygments_lexer": "ipython3",
   "version": "3.11.7"
  }
 },
 "nbformat": 4,
 "nbformat_minor": 5
}
