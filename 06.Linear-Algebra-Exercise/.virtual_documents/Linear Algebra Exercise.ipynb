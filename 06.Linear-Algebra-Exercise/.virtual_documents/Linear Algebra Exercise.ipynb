%matplotlib inline


import numpy as np
import matplotlib.pyplot as plt
from matplotlib.transforms import Affine2D
import skimage.io
import timeit
# Write your imports here








def plot_vectors(vectors, colors):
    """
    Plots vectors on the xy-plane. The `vectors` parameter is a Python list.
    Each vector is specified in the format [start_x, start_y, end_x, end_y]
    """
    # Write your code here
    vectors_array = np.array(vectors)
    start_x = vectors_array[:, 0]
    start_y = vectors_array[:, 1]
    end_x = vectors_array[:, 2]
    end_y = vectors_array[:, 3]
    #quiver gets as second arguments not end point, but length
    length_x = end_x - start_x
    length_y = end_y - start_y
    
    plt.quiver(start_x, start_y, length_x, length_y, color = colors, angles='xy', scale_units='xy', scale=1)
    plt.xlim(-10, 10)
    plt.ylim(-10, 10)

    plt.gca().set_aspect("equal")
    plt.show()


#plot_vectors([[0, 0, 2, 3]], ["red"]) # One vector
#plot_vectors([[0, 0, 1, 0], [0, 0, 0, 1]], ["red", "blue"]) # Two orthogonal vectors
plot_vectors([[1, 1, -2, 3], [2, 1, -2.5, 1.5], [-3.2, -1.5, 0, 4.3]], ["red", "blue", "orange"]) # Three arbitrary vectors





def find_linear_combination_coefficients(e1, e2, v):
    """
    Returns the coordinates of the representation of v in the basis {e_1, e_2}.
    That is, the unknown coefficients in the linear combination v = lambda_1 * e_1 + lambda_2 * e_2
    """
    basis_matrix = np.array([e1, e2]).T
    coefficients = np.linalg.solve(basis_matrix, v)
    #print(basis_matrix)
    return coefficients


e1, e2 = [[1, 0], [0, 1]]
v = [3.5, 8.6]
# Find the unknown coefficients. Extract the logic in a function.
# It should accept the two basis vectors and the one we need to represent
# and should return the two coefficients
coefficients = find_linear_combination_coefficients(e1, e2, v)
print("Coefficients: ", str(coefficients))
# Plot the three vectors
plot_vectors([[0, 0, i[0], i[1]] for i in [e1, e2, v]], ["red", "blue", "green"])


#Plot vector when we change the y basis
e1, e2 = [[1, 0], [0, -1]]
v = [3.5, 8.6]
# Find the unknown coefficients. Extract the logic in a function.
# It should accept the two basis vectors and the one we need to represent
# and should return the two coefficients
coefficients = find_linear_combination_coefficients(e1, e2, v)
print("Coefficients: ", str(coefficients))
# Plot the three vectors
plot_vectors([[0, 0, i[0], i[1]] for i in [e1, e2, v]], ["red", "blue", "green"])





e1, e2 = [[2, 3], [-5, 1]]
coefficients = find_linear_combination_coefficients(e1, e2, v)
print("Coefficients: ", str(coefficients))
plot_vectors([[0, 0, i[0], i[1]] for i in [e1, e2, v]], ["red", "blue", "green"])


#Check whether solution is correct
2.73529412 * np.array(e1) + 0.39411765 * np.array(e2)





e1, e2 = [[3, 4], [-4, 3]]
coefficients = find_linear_combination_coefficients(e1, e2, v)
print("Coefficients: ", str(coefficients))
plot_vectors([[0, 0, i[0], i[1]] for i in [e1, e2, v]], ["red", "blue", "green"])


np.sqrt(3**2 + 4**2)


np.linalg.norm(e1, np.inf)


#Show first norm
np.linalg.norm(e1, 1)


#Show second norm
np.linalg.norm(e1, 2)


#Show zero norm (number of non-zero elements)
np.linalg.norm(e1, 0)





e1, e2 = [[0, 5], [4, 0]]
coefficients = find_linear_combination_coefficients(e1, e2, v)
print("Coefficients: ", str(coefficients))
plot_vectors([[0, 0, i[0], i[1]] for i in [e1, e2, v]], ["red", "blue", "green"])








%%timeit
x = [2, 3, 8, -2.3, 0, 15]
python_sum = 0
for i in range(len(x)):
    python_sum += x[i]
#print(python_sum)


%%timeit
x = [2, 3, 8, -2.3, 0, 15]
numpy_sum = np.sum(x)
#print(numpy_sum)
#about 15 times slower.


random_numbers = np.random.randint(1, 100, size = 50000)
random_numbers_as_list = random_numbers.tolist()


%%timeit
python_sum = 0
for i in range(len(random_numbers_as_list)):
    python_sum += random_numbers_as_list[i]


%%timeit
numpy_sum = np.sum(random_numbers)


timeit.timeit(lambda : np.sum([1,2,3]))


x = np.random.randint(1, 100, size=50000)
x_list = x.tolist()


def py_sum(x):
    python_sum = 0
    for i in range(len(x)):
        python_sum += x[i]
    return python_sum

def np_sum(x):
    return np.sum(x)


#Check that the two sums are equal
to_check = np.random.randint(1, 100, size=1000)
to_check_list = to_check.tolist()

assert py_sum(to_check_list) == np_sum(to_check)


timeit.timeit(lambda : py_sum(x_list), number = 1000)


timeit.timeit(lambda : np_sum(x), number = 1000)


lengths = [10 * (10 ** i) for i in range(6)]
x = [np.random.randint(1, 100, size = length) for length in lengths]

python_times = []
numpy_times = []

for i in x:
    python_time = timeit.timeit(lambda: py_sum(i), number = 1000)
    python_times.append(python_time)

    numpy_time = timeit.timeit(lambda: np_sum(i), number = 1000)
    numpy_times.append(numpy_time)

# plotting
plt.plot(lengths, python_times, label="Python Time")
plt.plot(lengths, numpy_times, label="Numpy Time")
plt.xlabel("Array length")
plt.ylabel("Execution time")
plt.title("Multiplication with Python vs Numpy")
plt.legend()
plt.grid(True)
plt.show()


lengths = [10 * (10 ** i) for i in range(4)]
comparison_times = []
for length in lengths:
    x = np.random.randint(1, 100, size = length)
    x_list = x.tolist() 
    
    python_time = timeit.timeit(lambda: py_sum(x_list), number = 1000)

    print("********************")
    print(length)
    print(python_time)
    print(numpy_time)
    print("********************")

    numpy_time = timeit.timeit(lambda: np_sum(x), number = 1000)
    comparison_times.append(numpy_time/python_time)

# plotting
plt.plot(lengths, comparison_times, label="Comparison times")
plt.xlabel("Array length")
plt.ylabel("Comparison")
plt.title("Multiplication with Python vs Numpy")
plt.legend()
plt.grid(True)
plt.show()





x = np.array([2, 3, 4])
y = np.array([5, -2, 3])
print("x.y =", str(x.dot(y)))

print("x.shape:", x.shape)
print("y.shape:", y.shape)
print("x:", x)
print("x transpose:", x.T)





x = np.array([[2, 3, 4]]) # Row vector
y = np.array([[5], [-2], [3]]) # Column vector

print("x.shape:", x.shape)
print("y.shape:", y.shape)
print("x.y:\n", x.dot(y)) # Dot product -> still looks like a matrix
print("y.x:\n", y.dot(x)) # Outer product -> matrix








def visualize_transformation(matrix, plot_title):
    fig = plt.figure()
    plt.axis("equal")
    ax = fig.add_subplot(111)

    # Limits, labels and grid
    ax.set_xlim(-5, 5)
    ax.set_ylim(-5, 5)
    ax.set_xticks(np.arange(ax.get_xlim()[0], ax.get_xlim()[1] + 1))
    ax.set_yticks(np.arange(ax.get_ylim()[0], ax.get_ylim()[1] + 1))
    ax.set_xticklabels([])
    ax.set_yticklabels([])
    ax.grid()
    ax.set_title(plot_title)

    # Unit vectors
    ax.quiver([0, 0], [0, 0], [1, 0], [0, 1], color = ["red", "blue"], alpha = 0.2, units = "xy", scale = 1)

    # Transformation
    matrix = [
        [matrix[0][0], matrix[0][1], 0],
        [matrix[1][0], matrix[1][1], 0],
        [0, 0, 1],
    ]
    t = Affine2D(matrix)

    [min_x, max_x, min_y, max_y] = [2 * ax.get_xlim()[0], 2 * ax.get_xlim()[1] + 1, 2 * ax.get_ylim()[0], 2 * ax.get_ylim()[1] + 1]

    # New (transformed) grid lines
    # Horizontal
    for y in np.arange(min_y, max_y):
        ax.plot([min_x, max_x], [y] * 2, color = "red", linestyle = "--", linewidth = 2, transform = t + ax.transData)
    # Vertical
    for x in np.arange(min_x, max_x):
        ax.plot([x] * 2, [min_y, max_y], color = "blue", linestyle = "--", linewidth = 2, transform = t + ax.transData)

    # New (transformed) unit vectors
    new_x = t.transform_affine([1, 0])
    new_y = t.transform_affine([0, 1])
    ax.quiver([0, 0], [0, 0], [new_x[0], new_y[0]], [new_x[1], new_y[1]], color = ["red", "blue"], units = "xy", angles = "xy", scale = 1)
   
    plt.show()





# Identity
matrix = [
    [1, 0],
    [0, 1]
]

visualize_transformation(matrix, r"$\mathrm{Identity\ transformation}$")

# Scaling
matrix = [
    [2, 0],
    [0, 1]
]

visualize_transformation(matrix, r"$\mathrm{Scaling}$")

# Shear
matrix = [
    [1, 2],
    [-1, 1]
]

visualize_transformation(matrix, r"$\mathrm{Shear}$")

# Rotation
matrix = [
    [np.cos(np.radians(30)), -np.sin(np.radians(30))],
    [np.sin(np.radians(30)), np.cos(np.radians(30))]
]

visualize_transformation(matrix, r"$\mathrm{30^{\circ}\ rotation}$")

# Projection (linearly dependent rows)
matrix = [
    [1, 2],
    [2, 4]
]

visualize_transformation(matrix, r"$\mathrm{Projection\ (linearly\ dependent\ rows)}$")





# Write your code here





def read_image(url):
    img = skimage.io.imread(url)
    return img


cat_image_url = "https://d17fnq9dkz9hgj.cloudfront.net/uploads/2012/11/140272627-grooming-needs-senior-cat-632x475.jpg"
cat_image = read_image(cat_image_url)


cat_image[0][0] # First pixel


cat_image.shape


plt.imshow(cat_image)
plt.axis("off")
plt.show()





cat_image_r, cat_image_g, cat_image_b = [cat_image[:, :, i] for i in range(3)]
f, (ax_r, ax_g, ax_b) = plt.subplots(1, 3, figsize = (10, 5))
ax_r.imshow(cat_image_r, cmap = "gray")
ax_r.set_title("Red channel")
ax_g.imshow(cat_image_g, cmap = "gray")
ax_g.set_title("Green channel")
ax_b.imshow(cat_image_b, cmap = "gray")
ax_b.set_title("Blue channel")
plt.setp([ax_r, ax_g, ax_b], xticks = [], yticks = []) # Remove axis ticks
plt.show()





cat_image_r_normalized, cat_image_g_normalized, cat_image_b_normalized = [
    channel / 255 for channel in [cat_image_r, cat_image_g, cat_image_b]
] 
cat_image_gray = (cat_image_r_normalized + cat_image_g_normalized + cat_image_b_normalized) / 3.0  
plt.imshow(cat_image_gray, cmap = "gray")
plt.title("Average grayscale image")
plt.show()





cat_image_gray_corrected = (0.299 * cat_image_r_normalized + 
                            0.587 * cat_image_g_normalized + 
                            0.114 * cat_image_b_normalized)
plt.gca().imshow(cat_image_gray_corrected, cmap = plt.cm.gray)
plt.title("Gamma-corrected grayscale image")
plt.show()


cat_image_gray_corrected = (0.1 * cat_image_r_normalized + 
                            0.1 * cat_image_g_normalized + 
                            0.1 * cat_image_b_normalized)
plt.gca().imshow(cat_image_gray_corrected, cmap = plt.cm.gray)
plt.title("Experimental image")
plt.show()


cat_image_gray_corrected = (1 * cat_image_r_normalized + 
                            1 * cat_image_g_normalized + 
                            1 * cat_image_b_normalized)
plt.gca().imshow(cat_image_gray_corrected, cmap = plt.cm.gray)
plt.title("Experimental image")
plt.show()





plt.hist(cat_image_gray.ravel(), bins = 256, color = "black")
plt.title("Uncorrected image histogram")
plt.show()
plt.hist(cat_image_gray_corrected.ravel(), bins = 256, color = "red")
plt.title("Corrected image histogram")
plt.show()


# Represent the image as a single-dimensional vector
hist_vector = cat_image_gray.ravel()

# Normalize the image to have values in the range [0; 1]
hist_vector = hist_vector / (hist_vector.max() - hist_vector.min())

plt.hist(hist_vector, bins = 256, color = "black", alpha = 0.5, label = "Uncorrected")
plt.hist(cat_image_gray_corrected.ravel(), bins = 256, color = "red", alpha = 0.5, label = "Corrected")
plt.xlim(0, 1)
plt.title("Image histograms comparison")
plt.legend()
plt.show()


print(hist_vector)
hist_vector2 = hist_vector / (hist_vector.max() - hist_vector.min())
print(hist_vector2)





# Write your code here
data=[cat_image_r_normalized, cat_image_g_normalized, cat_image_b_normalized]
titles = ['red','green','blue'] 

f,a = plt.subplots(1,3)
a = a.ravel()
for idx,ax in enumerate(a):
    ax.hist(data[idx].ravel(), color = titles[idx], bins = 256, alpha = 0.5)
    ax.set_title(titles[idx])
plt.xlim(0, 1)
plt.tight_layout()





# Write your code here





def visualize_transformed_vector(matrix, vec, title):
    """
    Shows the vector (starting at (0; 0)) before and after the transformation
    given by the specified matrix
    """
    # Write your code here
    pass





matrix = np.array([[2, -4, 0], [-1, -1, 0], [0, 0, 1]])
visualize_transformed_vector(matrix, [2, 3], "Transformation")





visualize_transformed_vector(matrix, [-4, 1], "Transformation")












