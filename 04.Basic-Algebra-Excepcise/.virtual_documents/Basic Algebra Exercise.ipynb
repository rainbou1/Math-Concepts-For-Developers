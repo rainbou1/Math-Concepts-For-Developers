%matplotlib inline


from math import cos, sin, radians
import numpy as np
from numpy.polynomial.polynomial import Polynomial
import matplotlib.pyplot as plt

#imports for task 5
import time
import random
from sympy.ntheory import factorint








# Write your code here
points = np.array([(0, 0), (1, 0.8), (2, 0.9), (3, 0.1), (4, -0.8), (5, -1.0)])
x = points[:, 0]
y = points[:, 1]

the_polynomial_function = Polynomial.fit(x, y, len(points)-1)
plot_x = np.linspace(np.min(x), np.max(x), 1000) # generating the x, that will be plotted.
plot_y = the_polynomial_function(plot_x) #calculating the y, based on the polynomial function

plt.plot(plot_x, plot_y, c = "green")
plt.scatter(x, y)
plt.xlabel("x")
plt.ylabel("y")
plt.show()






def interpolate_polynomial(points, degree, min_x, max_x):
    """
    Interpolates a polynomial of the specified degree through the given points and plots it
    points - a list of points (x, y) to plot
    degree - the polynomial degree
    min_x, max_x - range of x values used to plot the interpolating polynomial
    """
    # Write your code here
    x = points[:, 0]
    y = points[:, 1]

    the_polynomial_function = Polynomial.fit(x, y, degree)
    plot_x = np.linspace(min_x, max_x, 1000) # generating the x, that will be plotted.
    plot_y = the_polynomial_function(plot_x) #calculating the y, based on the polynomial function

    plt.plot(plot_x, plot_y, c = "green")
    plt.scatter(x, y)
    plt.xlabel("x")
    plt.ylabel("y")
    plt.show()   



points = np.array([(0, 0), (1, 0.8), (2, 0.9), (3, 0.1), (4, -0.8), (5, -1.0)])
interpolate_polynomial(points, len(points) - 1, np.min(points[:, 0]), np.max(points[:, 0]))





interpolate_polynomial(points, len(points) - 1, -5, 10)





interpolate_polynomial(points, 3, np.min(points[:, 0]), np.max(points[:, 0]))
interpolate_polynomial(points, 2, np.min(points[:, 0]), np.max(points[:, 0]))
interpolate_polynomial(points, 1, np.min(points[:, 0]), np.max(points[:, 0]))





interpolate_polynomial(points, 5, np.min(points[:, 0]), np.max(points[:, 0]))
interpolate_polynomial(points, 7, np.min(points[:, 0]), np.max(points[:, 0]))
interpolate_polynomial(points, 10, np.min(points[:, 0]), np.max(points[:, 0]))





interpolate_polynomial(points, 5, -10, 10)
interpolate_polynomial(points, 7, -10, 10)
interpolate_polynomial(points, 10, -10, 10)





interpolate_polynomial(points, len(points) - 1, -2, 7)
interpolate_polynomial(points, len(points) + 1, -2, 7)






points = np.array([(-5, 0.03846), (-4, 0.05882), (-3, 0.1), (-2, 0.2), (-1, 0.5), (0, 1), (1, 0.5), (2, 0.2), (3, 0.1), (4, 0.05882), (5, 0.03846)])
interpolate_polynomial(points, len(points) - 1, np.min(points[:, 0]), np.max(points[:, 0]))





def interpolate_polynomial_and_real_function(points, degree, min_x, max_x):
    """
    Interpolates a polynomial of the specified degree through the given points and plots it
    points - a list of points (x, y) to plot
    degree - the polynomial degree
    min_x, max_x - range of x values used to plot the interpolating polynomial
    """
    # Write your code here
    x = points[:, 0]
    y = points[:, 1]

    the_polynomial_function = Polynomial.fit(x, y, degree)
    plot_x = np.linspace(min_x, max_x, 1000) # generating the x, that will be plotted.
    plot_y = the_polynomial_function(plot_x) #calculating the y, based on the polynomial function

    plot_y_real = 1 / (1 + plot_x ** 2) #calculating the y, based on the real function

    #plot the points
    plt.scatter(x, y)

    #plotting the polynomial function
    plt.plot(plot_x, plot_y, c = "green", label="Interpolated polynomial function")

    #plotting the real function
    plt.plot(plot_x, plot_y_real, c = "red", label="Real function: $y=\frac{1}{{1 + x^2}}$") 
    
    plt.xlabel("x")
    plt.ylabel("y")
    plt.show()   



# Write your code here
points = np.array([(-5, 0.03846), (-4, 0.05882), (-3, 0.1), (-2, 0.2), (-1, 0.5), (0, 1), (1, 0.5), (2, 0.2), (3, 0.1), (4, 0.05882), (5, 0.03846)])
interpolate_polynomial_and_real_function(points, len(points) - 1, np.min(points[:, 0]), np.max(points[:, 0]))





def plot_complex_number(z):
    """
    Plots the complex number z as a radius vector in the 2D space
    """
    plt.quiver(0, 0, z.real, z.imag, angles = "xy", scale_units = "xy", scale = 1)
    
    plt.xticks(range(-4, 6))
    plt.yticks(range(-4, 6))
    

plot_complex_number(2 + 3j)





def plot_complex_numbers(numbers, colors):
    """
    Plots the given complex numbers as radius vectors in the 2D space
    """
    # Write your code here
    plt.quiver([0] * len(numbers), 
               [0] * len(numbers), 
               [z.real for z in numbers], 
               [z.imag for z in numbers], 
               angles = "xy", scale_units = "xy", scale = 1, color = colors)

    plt.xticks(range(-8, 9))
    plt.yticks(range(-8, 9))
    
plot_complex_numbers([2 + 3j, -2 - 1j, -3, 2j], ["green", "red", "blue", "orange"])





z1 = 2 + 3j
z2 = 1 - 1j
plot_complex_numbers([z1, z2, z1 + z2], ["red", "blue", "green"])





z1 = 2 + 3j
z2 = 2 + 0j
plot_complex_numbers([z1, z2, z1 + z2], ["red", "blue", "green"])


z1 = 2 + 3j
z2 = 0 + 2j
plot_complex_numbers([z1, z2, z1 + z2], ["red", "blue", "green"])





z = 2 + 3j
plot_complex_numbers([z, z * 1], ["red", "blue"])
plot_complex_numbers([z, z * -1], ["red", "blue"])
plot_complex_numbers([z, z * 2j], ["red", "blue"])
plot_complex_numbers([z, z * -2j], ["red", "blue"])








z1 = 2 + 3j
z2 = 1 - 2j
plot_complex_numbers([z1, z2, z1 * z2], ["red", "blue", "green"])





def factorial_recursive(n):
    """
    Computes the factorial of a non-negative number n (using recursion)
    """
    # Write your code here
    # TODO check whether the number is non-negative.
    if n == 0: 
        return 1
    return n * factorial_recursive(n-1);

def factorial_iterative(n):
    """
    Computes the factorial of a non-negative number n (using iteration)
    """
    # TODO check whether the number is non-negative.
    # Write your code here
    if n == 0:
        return 1
    result = 1;
    for i in range(1, n + 1):
        result *= i
    return result


factorial_recursive(6)


factorial_iterative(6)


factorial_recursive(6) == factorial_iterative(6)


factorial_recursive(11) == 11 * factorial_recursive(10)


factorial_iterative(11) == 11 * factorial_iterative(10)


for i in range(1, 146):
    assert factorial_recursive(i) == factorial_iterative(i)





def nat():
    """Returns all natural numbers"""
    current_number = 0
    while True:
        yield current_number
        current_number += 1

def even():
    """Returns all even numbers"""
    #Consider 0 an even number
    for number in nat():
        if number % 2 == 0:
            yield number
    


# Generator
natural_numbers = nat()


[next(natural_numbers) for _ in range(11)]


# Generator
even_numbers = even()


[next(even_numbers) for _ in range(17)]





def factorial_new(n):
    # Write your own docstring as showing it here will be too much of a hint :)
    # Don't forget to also write the code :D
    pass


def factorials():
    # This calculate all the factorials based on generator
    natural_numbers = nat()
    current_number = next(natural_numbers)
    result = 1
    while True:
        yield result
        current_number = next(natural_numbers)
        result *= current_number


for next_factorial in factorials():
    print(next_factorial)
    if (next_factorial > 5000):
        break





def fibonacci():
    a = 0
    b = 1
    while True:
        yield a
        the_sum = a + b
        a = b
        b = the_sum


def fibonacci_for_number(n):
    fib = fibonacci()
    for _ in range(n):
        print(next(fib))


fibonacci_for_number(10)





# Write your code here





# Write your code here





def encode(text):
    """
    Returns the run-length encoded version of the text
    (numbers after symbols, length = 1 is skipped)
    """
    if (len(text) == 1):
        return text
    
    result = ""
    count = 1
    prev_char = text[0]

    for next_char in text[1:]:
        if next_char == prev_char:
            count +=1
        else :
            #append the previous character to the result
            result = result + prev_char
            # append the counter only if > 1
            if count > 1:
                result = result + str(count)

            #set the initial values for the next character check
            count = 1
            prev_char = next_char

    #add the final values of prev_char and count
    result = result + prev_char
    if count > 1:
        result = result + str(count)
    return result
            
    

def decode(text):
    """
    Decodes the text using run-length encoding
    """
    if (len(text) == 1):
        return text
    
    result = ""
    prev_char = text[0]

    for next_char in text[1:]:
        if next_char.isdigit():
            for _ in range(int(next_char) -1): #here we lessen with 1, because at the next symbol(which is not digit),
                                                #the prev_chart will be added once again
                result = result + prev_char
            
        else:
            result = result + prev_char
            prev_char = next_char

    #add the final value of prev_char
    result = result + prev_char
    return result


# Tests
# Test that the functions work on their own
assert encode("AABCCCDEEEE") == "A2BC3DE4"
assert decode("A2BC3DE4") == "AABCCCDEEEE"

# Test that the functions really invert each other
assert decode(encode("AABCCCDEEEE")) == "AABCCCDEEEE"
assert encode(decode("A2BC3DE4")) == "A2BC3DE4"





# Write your code here
def make_experiment(bits_array, number_of_trials):
    average_factorization_times = []
    average_multiplication_times = []

    for next_bits in bits_array:
        
        factorization_time = 0
        multiplication_time = 0
    
        for _ in range(number_of_trials):
            # Generate the next number
            next_number = random.getrandbits(next_bits)

            #Calculate time of factorization 
            start_time = time.time()
            factorized_number = factorint(next_number)
            end_time = time.time()
            factorization_time += end_time - start_time

            #Calculate time of multiplication
            result = 1
            start_time = time.time()
            for factor, power in factorized_number.items():
                result *= factor ** power
            end_time = time.time()
            multiplication_time+= end_time - start_time

        average_factorization_times.append(factorization_time/number_of_trials)
        average_multiplication_times.append(multiplication_time/number_of_trials)
    return average_factorization_times, average_multiplication_times 



test_bits = [10, 20, 25, 30, 32, 33, 35, 38, 40]
factorization_times, multiplication_times = make_experiment(test_bits, 5)

# plotting
plt.plot(test_bits, factorization_times, label="Factorization Time")
plt.plot(test_bits, multiplication_times, label="Multiplication Time")
plt.xlabel("Number of Bits")
plt.ylabel("Time (seconds)")
plt.title("Factorization vs Multiplication Time")
plt.legend()
plt.grid(True)
plt.show()





# Write your code here






